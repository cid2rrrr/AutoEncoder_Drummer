{
 "cells": [
  {
   "cell_type": "code",
   "execution_count": 3,
   "metadata": {},
   "outputs": [],
   "source": [
    "import tensorflow as tf, numpy as np\n",
    "import os, librosa\n",
    "from PIL import Image"
   ]
  },
  {
   "cell_type": "code",
   "execution_count": 2,
   "metadata": {},
   "outputs": [],
   "source": [
    "drum_path = './Loop/'\n",
    "\n",
    "drums = os.listdir(drum_path)"
   ]
  },
  {
   "cell_type": "code",
   "execution_count": 11,
   "metadata": {},
   "outputs": [
    {
     "ename": "FileNotFoundError",
     "evalue": "[Errno 2] No such file or directory: 'C:\\\\Users\\\\cid2r\\\\Documents\\\\realVSCode\\\\AutoEncoder_Drummer\\\\drum_npy\\\\0.npy'",
     "output_type": "error",
     "traceback": [
      "\u001b[1;31m---------------------------------------------------------------------------\u001b[0m",
      "\u001b[1;31mFileNotFoundError\u001b[0m                         Traceback (most recent call last)",
      "\u001b[1;32mc:\\Users\\cid2r\\Documents\\realVSCode\\AutoEncoder_Drummer\\Unet.ipynb 셀 3\u001b[0m in \u001b[0;36m<module>\u001b[1;34m\u001b[0m\n\u001b[0;32m      <a href='vscode-notebook-cell:/c%3A/Users/cid2r/Documents/realVSCode/AutoEncoder_Drummer/Unet.ipynb#W2sZmlsZQ%3D%3D?line=3'>4</a>\u001b[0m y, sr \u001b[39m=\u001b[39m librosa\u001b[39m.\u001b[39mload(drum_path\u001b[39m+\u001b[39mdrum)\n\u001b[0;32m      <a href='vscode-notebook-cell:/c%3A/Users/cid2r/Documents/realVSCode/AutoEncoder_Drummer/Unet.ipynb#W2sZmlsZQ%3D%3D?line=4'>5</a>\u001b[0m mel \u001b[39m=\u001b[39m librosa\u001b[39m.\u001b[39mfeature\u001b[39m.\u001b[39mmelspectrogram(y\u001b[39m=\u001b[39my, sr\u001b[39m=\u001b[39msr)\n\u001b[1;32m----> <a href='vscode-notebook-cell:/c%3A/Users/cid2r/Documents/realVSCode/AutoEncoder_Drummer/Unet.ipynb#W2sZmlsZQ%3D%3D?line=5'>6</a>\u001b[0m np\u001b[39m.\u001b[39;49msave(os\u001b[39m.\u001b[39;49mpath\u001b[39m.\u001b[39;49mjoin(\u001b[39mr\u001b[39;49m\u001b[39m\"\u001b[39;49m\u001b[39mC:\u001b[39;49m\u001b[39m\\\u001b[39;49m\u001b[39mUsers\u001b[39;49m\u001b[39m\\\u001b[39;49m\u001b[39mcid2r\u001b[39;49m\u001b[39m\\\u001b[39;49m\u001b[39mDocuments\u001b[39;49m\u001b[39m\\\u001b[39;49m\u001b[39mrealVSCode\u001b[39;49m\u001b[39m\\\u001b[39;49m\u001b[39mAutoEncoder_Drummer\u001b[39;49m\u001b[39m\\\u001b[39;49m\u001b[39mdrum_npy\u001b[39;49m\u001b[39m\"\u001b[39;49m,\u001b[39mstr\u001b[39;49m(count)), mel)\n\u001b[0;32m      <a href='vscode-notebook-cell:/c%3A/Users/cid2r/Documents/realVSCode/AutoEncoder_Drummer/Unet.ipynb#W2sZmlsZQ%3D%3D?line=6'>7</a>\u001b[0m count \u001b[39m+\u001b[39m\u001b[39m=\u001b[39m \u001b[39m1\u001b[39m\n",
      "File \u001b[1;32m<__array_function__ internals>:5\u001b[0m, in \u001b[0;36msave\u001b[1;34m(*args, **kwargs)\u001b[0m\n",
      "File \u001b[1;32mc:\\Users\\cid2r\\anaconda3\\lib\\site-packages\\numpy\\lib\\npyio.py:524\u001b[0m, in \u001b[0;36msave\u001b[1;34m(file, arr, allow_pickle, fix_imports)\u001b[0m\n\u001b[0;32m    522\u001b[0m     \u001b[39mif\u001b[39;00m \u001b[39mnot\u001b[39;00m file\u001b[39m.\u001b[39mendswith(\u001b[39m'\u001b[39m\u001b[39m.npy\u001b[39m\u001b[39m'\u001b[39m):\n\u001b[0;32m    523\u001b[0m         file \u001b[39m=\u001b[39m file \u001b[39m+\u001b[39m \u001b[39m'\u001b[39m\u001b[39m.npy\u001b[39m\u001b[39m'\u001b[39m\n\u001b[1;32m--> 524\u001b[0m     file_ctx \u001b[39m=\u001b[39m \u001b[39mopen\u001b[39;49m(file, \u001b[39m\"\u001b[39;49m\u001b[39mwb\u001b[39;49m\u001b[39m\"\u001b[39;49m)\n\u001b[0;32m    526\u001b[0m \u001b[39mwith\u001b[39;00m file_ctx \u001b[39mas\u001b[39;00m fid:\n\u001b[0;32m    527\u001b[0m     arr \u001b[39m=\u001b[39m np\u001b[39m.\u001b[39masanyarray(arr)\n",
      "\u001b[1;31mFileNotFoundError\u001b[0m: [Errno 2] No such file or directory: 'C:\\\\Users\\\\cid2r\\\\Documents\\\\realVSCode\\\\AutoEncoder_Drummer\\\\drum_npy\\\\0.npy'"
     ]
    }
   ],
   "source": [
    "count = 0\n",
    "\n",
    "for drum in drums:\n",
    "    y, sr = librosa.load(drum_path+drum)\n",
    "    mel = librosa.feature.melspectrogram(y=y, sr=sr)\n",
    "    np.save(), mel)\n",
    "    count += 1\n",
    "    "
   ]
  },
  {
   "cell_type": "code",
   "execution_count": null,
   "metadata": {},
   "outputs": [],
   "source": []
  }
 ],
 "metadata": {
  "kernelspec": {
   "display_name": "Python 3.9.7 ('base')",
   "language": "python",
   "name": "python3"
  },
  "language_info": {
   "codemirror_mode": {
    "name": "ipython",
    "version": 3
   },
   "file_extension": ".py",
   "mimetype": "text/x-python",
   "name": "python",
   "nbconvert_exporter": "python",
   "pygments_lexer": "ipython3",
   "version": "3.9.7"
  },
  "orig_nbformat": 4,
  "vscode": {
   "interpreter": {
    "hash": "9cda7dce2d78f3c21f6a73de63970ac35274352b7a0f13225446d99cae259cfd"
   }
  }
 },
 "nbformat": 4,
 "nbformat_minor": 2
}
